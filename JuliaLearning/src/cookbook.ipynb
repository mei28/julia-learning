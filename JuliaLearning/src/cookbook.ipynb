{
 "cells": [
  {
   "cell_type": "code",
   "execution_count": 2,
   "id": "a07f7ac6",
   "metadata": {},
   "outputs": [
    {
     "ename": "LoadError",
     "evalue": "UndefVarError: srand not defined",
     "output_type": "error",
     "traceback": [
      "UndefVarError: srand not defined",
      "",
      "Stacktrace:",
      " [1] top-level scope",
      "   @ In[2]:1",
      " [2] eval",
      "   @ ./boot.jl:360 [inlined]",
      " [3] include_string(mapexpr::typeof(REPL.softscope), mod::Module, code::String, filename::String)",
      "   @ Base ./loading.jl:1094"
     ]
    }
   ],
   "source": [
    "srand(46);"
   ]
  },
  {
   "cell_type": "markdown",
   "id": "fd6364e6",
   "metadata": {},
   "source": [
    "ベクトルについて"
   ]
  },
  {
   "cell_type": "markdown",
   "id": "4915fdda",
   "metadata": {},
   "source": [
    "ベクトルをつくる"
   ]
  },
  {
   "cell_type": "code",
   "execution_count": 3,
   "id": "0ddfc703",
   "metadata": {},
   "outputs": [
    {
     "data": {
      "text/plain": [
       "Any[]"
      ]
     },
     "execution_count": 3,
     "metadata": {},
     "output_type": "execute_result"
    }
   ],
   "source": [
    "x = []\n",
    "# なんでも入る"
   ]
  },
  {
   "cell_type": "code",
   "execution_count": 4,
   "id": "be3b15cb",
   "metadata": {},
   "outputs": [
    {
     "data": {
      "text/plain": [
       "Int64[]"
      ]
     },
     "execution_count": 4,
     "metadata": {},
     "output_type": "execute_result"
    }
   ],
   "source": [
    "x = Int[]"
   ]
  },
  {
   "cell_type": "code",
   "execution_count": 5,
   "id": "990e921e",
   "metadata": {},
   "outputs": [
    {
     "data": {
      "text/plain": [
       "Int64[]"
      ]
     },
     "execution_count": 5,
     "metadata": {},
     "output_type": "execute_result"
    }
   ],
   "source": [
    "x = Vector{Int}()\n",
    "# Int[]とおなじ"
   ]
  },
  {
   "cell_type": "code",
   "execution_count": 6,
   "id": "56f54c7e",
   "metadata": {},
   "outputs": [
    {
     "data": {
      "text/plain": [
       "3-element Vector{Int64}:\n",
       " 1\n",
       " 2\n",
       " 3"
      ]
     },
     "execution_count": 6,
     "metadata": {},
     "output_type": "execute_result"
    }
   ],
   "source": [
    "x = [1,2,3]"
   ]
  },
  {
   "cell_type": "code",
   "execution_count": 7,
   "id": "ef631c51",
   "metadata": {},
   "outputs": [
    {
     "data": {
      "text/plain": [
       "10-element Vector{Int64}:\n",
       " 42\n",
       " 42\n",
       " 42\n",
       " 42\n",
       " 42\n",
       " 42\n",
       " 42\n",
       " 42\n",
       " 42\n",
       " 42"
      ]
     },
     "execution_count": 7,
     "metadata": {},
     "output_type": "execute_result"
    }
   ],
   "source": [
    "# 全て同じベクトルをつくる\n",
    "fill(42, 10)"
   ]
  },
  {
   "cell_type": "code",
   "execution_count": 8,
   "id": "1ae0aa44",
   "metadata": {},
   "outputs": [
    {
     "data": {
      "text/plain": [
       "4-element Vector{String}:\n",
       " \"foo\"\n",
       " \"foo\"\n",
       " \"foo\"\n",
       " \"foo\""
      ]
     },
     "execution_count": 8,
     "metadata": {},
     "output_type": "execute_result"
    }
   ],
   "source": [
    "fill(\"foo\", 4)"
   ]
  },
  {
   "cell_type": "code",
   "execution_count": 10,
   "id": "07cc286b",
   "metadata": {},
   "outputs": [
    {
     "name": "stdout",
     "output_type": "stream",
     "text": [
      "[1, 2, 3, 4]\n",
      "[0, 1, 2, 3, 4]\n"
     ]
    }
   ],
   "source": [
    "# ベクトルに追加する\n",
    "x = [1,2,3]\n",
    "push!(x,4) # 右に追加\n",
    "println(x)\n",
    "# unshift!(x,0) # 左に追加 julia1.6では廃止\n",
    "pushfirst!(x,0)\n",
    "println(x)"
   ]
  },
  {
   "cell_type": "code",
   "execution_count": 11,
   "id": "9c43227e",
   "metadata": {},
   "outputs": [
    {
     "name": "stdout",
     "output_type": "stream",
     "text": [
      "[0, 1, 2, 3, 4, 5, 6, 7]\n"
     ]
    }
   ],
   "source": [
    "# 別のベクトルを追加\n",
    "append!(x,[5,6,7])\n",
    "println(x)"
   ]
  },
  {
   "cell_type": "code",
   "execution_count": 14,
   "id": "b31a16bc",
   "metadata": {},
   "outputs": [
    {
     "name": "stdout",
     "output_type": "stream",
     "text": [
      "[1, 2, 3, 4]\n",
      "[2, 3, 4]\n",
      "[2, 4]\n"
     ]
    }
   ],
   "source": [
    "# ベクトル の要素を削除する\n",
    "x = [1,2,3,4,5]\n",
    "pop!(x)\n",
    "println(x)\n",
    "# shift!(x) # julia 1.6では廃止\n",
    "popfirst!(x)# 左端を削除\n",
    "println(x)\n",
    "deleteat!(x,2) # 指定した場所を削除\n",
    "println(x)"
   ]
  },
  {
   "cell_type": "code",
   "execution_count": 15,
   "id": "062cc82c",
   "metadata": {},
   "outputs": [
    {
     "name": "stdout",
     "output_type": "stream",
     "text": [
      "true\n",
      "false\n"
     ]
    }
   ],
   "source": [
    "# べクトル がソート済みかどうか\n",
    "println(issorted([1,2,3,4]))\n",
    "println(issorted([2,1,4,5]))"
   ]
  },
  {
   "cell_type": "code",
   "execution_count": 18,
   "id": "b60bd8fe",
   "metadata": {},
   "outputs": [
    {
     "name": "stdout",
     "output_type": "stream",
     "text": [
      "[1, 2, 3, 4, 5, 7]\n",
      "[7, 5, 4, 3, 2, 1]\n"
     ]
    }
   ],
   "source": [
    "#　ベクトル のそーと\n",
    "x = [1,2,4,3,5,7]\n",
    "sort!(x)\n",
    "println(x)\n",
    "sort!(x,rev=true)\n",
    "println(x)"
   ]
  },
  {
   "cell_type": "code",
   "execution_count": 19,
   "id": "2aed9072",
   "metadata": {},
   "outputs": [
    {
     "name": "stdout",
     "output_type": "stream",
     "text": [
      "[5, 4, 3, 2, 1]\n"
     ]
    }
   ],
   "source": [
    "# ベクトルを逆順にする\n",
    "x = [1,2,3,4,5]\n",
    "reverse!(x)\n",
    "println(x)"
   ]
  },
  {
   "cell_type": "code",
   "execution_count": null,
   "id": "53e085aa",
   "metadata": {},
   "outputs": [],
   "source": []
  }
 ],
 "metadata": {
  "kernelspec": {
   "display_name": "Julia 1.6.0",
   "language": "julia",
   "name": "julia-1.6"
  },
  "language_info": {
   "file_extension": ".jl",
   "mimetype": "application/julia",
   "name": "julia",
   "version": "1.6.0"
  }
 },
 "nbformat": 4,
 "nbformat_minor": 5
}
